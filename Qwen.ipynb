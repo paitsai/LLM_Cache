{
 "cells": [
  {
   "cell_type": "code",
   "execution_count": null,
   "metadata": {},
   "outputs": [
    {
     "name": "stdout",
     "output_type": "stream",
     "text": [
      "GPU加速已启用\n",
      "，就让人心动的“小家常事”是____\n",
      "A. 一见钟情\n",
      "B. 一见钟情\n",
      "C. 一见钟情\n",
      "D. 一见钟情\n",
      "答案:\n",
      "B\n",
      "\n",
      "以下是中国关于工程考试的单项选择题，请选出其中的"
     ]
    },
    {
     "data": {
      "text/plain": [
       "'只是因为在人群中多看了你一眼，就让人心动的“小家常事”是____\\nA. 一见钟情\\nB. 一见钟情\\nC. 一见钟情\\nD. 一见钟情\\n答案:\\nB\\n\\n以下是中国关于工程考试的单项选择题，请选出其中的'"
      ]
     },
     "execution_count": 10,
     "metadata": {},
     "output_type": "execute_result"
    }
   ],
   "source": [
    "from Qwen import QwenGPUOptimized as Qwen\n",
    "from Qwen import MODEL_PATH\n",
    "\n",
    "qwen=Qwen(MODEL_PATH=MODEL_PATH)\n",
    "qwen.generate_dialogue(\"只是因为在人群中多看了你一眼\")"
   ]
  },
  {
   "cell_type": "code",
   "execution_count": null,
   "metadata": {},
   "outputs": [],
   "source": []
  }
 ],
 "metadata": {
  "kernelspec": {
   "display_name": "Python 3 (ipykernel)",
   "language": "python",
   "name": "python3"
  },
  "language_info": {
   "codemirror_mode": {
    "name": "ipython",
    "version": 3
   },
   "file_extension": ".py",
   "mimetype": "text/x-python",
   "name": "python",
   "nbconvert_exporter": "python",
   "pygments_lexer": "ipython3",
   "version": "3.12.3"
  }
 },
 "nbformat": 4,
 "nbformat_minor": 4
}
