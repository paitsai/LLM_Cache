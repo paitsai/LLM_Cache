{
 "cells": [
  {
   "cell_type": "code",
   "execution_count": null,
   "metadata": {},
   "outputs": [
    {
     "name": "stderr",
     "output_type": "stream",
     "text": [
      "/root/miniconda3/lib/python3.12/site-packages/transformers/utils/hub.py:128: FutureWarning: Using `TRANSFORMERS_CACHE` is deprecated and will be removed in v5 of Transformers. Use `HF_HOME` instead.\n",
      "  warnings.warn(\n"
     ]
    },
    {
     "name": "stdout",
     "output_type": "stream",
     "text": [
      "GPU加速已启用\n",
      "的《行》》》》》\n",
      "A. ��. ��. ��. ��. ��. ��. ��. ��. ��. ��. ��. ��. ��. ��. ��. ��. ��. ��"
     ]
    },
    {
     "data": {
      "text/plain": [
       "'关于李白的《行》》》》》\\nA. 正. 正. 正. 正. 正. 正. 正. 正. 正. 正. 正. 正. 正. 正. 正. 正. 正. 正'"
      ]
     },
     "execution_count": 1,
     "metadata": {},
     "output_type": "execute_result"
    }
   ],
   "source": [
    "from Qwen_gpu import QwenGPUOptimized as Qwen\n",
    "from Qwen import MODEL_PATH\n",
    "\n",
    "qwen=Qwen(MODEL_PATH=MODEL_PATH)\n",
    "qwen.generate_dialogue(\"The reason why\")"
   ]
  }
 ],
 "metadata": {
  "kernelspec": {
   "display_name": "base",
   "language": "python",
   "name": "python3"
  },
  "language_info": {
   "codemirror_mode": {
    "name": "ipython",
    "version": 3
   },
   "file_extension": ".py",
   "mimetype": "text/x-python",
   "name": "python",
   "nbconvert_exporter": "python",
   "pygments_lexer": "ipython3",
   "version": "3.12.3"
  }
 },
 "nbformat": 4,
 "nbformat_minor": 2
}
